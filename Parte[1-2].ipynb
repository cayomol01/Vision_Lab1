{
 "cells": [
  {
   "cell_type": "markdown",
   "metadata": {},
   "source": [
    "# Lab 1"
   ]
  },
  {
   "cell_type": "markdown",
   "metadata": {},
   "source": [
    "1. Leer la secci ́on 9.4 sobre el operador Hit or Miss. Explicar con sus propias palabras c ́omo funciona este operador, y como se construye la operaci ́on A ∗ B a partir de las operaciones b ́asicas de dilataci ́on, erosi ́on, opening, closing y diferencia. \n",
    "\n",
    "    Mostrar un ejemplo con una imagen binaria de su elección en donde se muestre que el operador Hit or Miss detecta la localizacion de un (o varios) objetos especificos dentro de una imagen binaria I"
   ]
  },
  {
   "cell_type": "code",
   "execution_count": null,
   "metadata": {},
   "outputs": [],
   "source": []
  }
 ],
 "metadata": {
  "language_info": {
   "name": "python"
  }
 },
 "nbformat": 4,
 "nbformat_minor": 2
}
